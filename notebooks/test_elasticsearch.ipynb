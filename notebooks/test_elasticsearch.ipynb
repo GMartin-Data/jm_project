{
 "cells": [
  {
   "cell_type": "markdown",
   "id": "e43697df",
   "metadata": {},
   "source": [
    "# Elasticsearch test for jm_project"
   ]
  },
  {
   "cell_type": "markdown",
   "id": "76ffc49f",
   "metadata": {},
   "source": [
    "Ce notebook teste la possibilité d'uploader les descriptions d'offres d'emploi sur elasticsearch, et fait test de query de la base de donnée.\n",
    "\n",
    "Ce notebook suppose qu'on a lancé le docker-compose d'elasticsearch créé dans le cours de datascientest"
   ]
  },
  {
   "cell_type": "code",
   "execution_count": 2,
   "id": "f83eea4e-7e9f-4e42-8422-fad58a4fda38",
   "metadata": {},
   "outputs": [
    {
     "name": "stderr",
     "output_type": "stream",
     "text": [
      "/Users/davidrosenfeld/Library/Python/3.9/lib/python/site-packages/urllib3/__init__.py:34: NotOpenSSLWarning: urllib3 v2.0 only supports OpenSSL 1.1.1+, currently the 'ssl' module is compiled with 'LibreSSL 2.8.3'. See: https://github.com/urllib3/urllib3/issues/3020\n",
      "  warnings.warn(\n"
     ]
    }
   ],
   "source": [
    "import json\n",
    "from elasticsearch import Elasticsearch, helpers"
   ]
  },
  {
   "cell_type": "code",
   "execution_count": 54,
   "id": "3f4be008",
   "metadata": {},
   "outputs": [],
   "source": [
    "jobs_path = 'data/adzuna_jobs_2023-11-21-13_51_47.json'"
   ]
  },
  {
   "cell_type": "markdown",
   "id": "705ee8c6",
   "metadata": {},
   "source": [
    "Read in scraped job vacancies:"
   ]
  },
  {
   "cell_type": "code",
   "execution_count": 5,
   "id": "64d1e8c1",
   "metadata": {},
   "outputs": [],
   "source": [
    "with open(jobs_path, 'r') as read_file:\n",
    "     jobs = json.load(read_file)"
   ]
  },
  {
   "cell_type": "markdown",
   "id": "6c3e48ae",
   "metadata": {},
   "source": [
    "Keep only the id and description from the data:"
   ]
  },
  {
   "cell_type": "code",
   "execution_count": 11,
   "id": "8d32994e",
   "metadata": {},
   "outputs": [],
   "source": [
    "def filter_keys(input_dict):\n",
    "    return {key: input_dict[key] for key in ['id', 'description']}"
   ]
  },
  {
   "cell_type": "code",
   "execution_count": 12,
   "id": "c2b47bd2",
   "metadata": {},
   "outputs": [],
   "source": [
    "jobs_filtered = [filter_keys(item) for item in jobs]"
   ]
  },
  {
   "cell_type": "code",
   "execution_count": 15,
   "id": "df780e01",
   "metadata": {},
   "outputs": [],
   "source": [
    "# Connexion au cluster\n",
    "es = Elasticsearch(hosts = \"http://@localhost:9200\")"
   ]
  },
  {
   "cell_type": "code",
   "execution_count": 55,
   "id": "ed803696",
   "metadata": {},
   "outputs": [],
   "source": [
    "# Si il existe déjà, la ligne suivant peut êter utilisée pour supprimer l'index:\n",
    "# es.indices.delete(index='jm_test')"
   ]
  },
  {
   "cell_type": "markdown",
   "id": "4973b278",
   "metadata": {},
   "source": [
    "Creation de l'index, nom donné: `jm_test`"
   ]
  },
  {
   "cell_type": "code",
   "execution_count": 25,
   "id": "12e3291f",
   "metadata": {},
   "outputs": [
    {
     "data": {
      "text/plain": [
       "ObjectApiResponse({'acknowledged': True, 'shards_acknowledged': True, 'index': 'jm_test'})"
      ]
     },
     "execution_count": 25,
     "metadata": {},
     "output_type": "execute_result"
    }
   ],
   "source": [
    "es.indices.create(index = 'jm_test')"
   ]
  },
  {
   "cell_type": "markdown",
   "id": "eb9e632c",
   "metadata": {},
   "source": [
    "Upload des données à l'index:"
   ]
  },
  {
   "cell_type": "code",
   "execution_count": 27,
   "id": "ee9b49af",
   "metadata": {},
   "outputs": [
    {
     "data": {
      "text/plain": [
       "(5300, [])"
      ]
     },
     "execution_count": 27,
     "metadata": {},
     "output_type": "execute_result"
    }
   ],
   "source": [
    "helpers.bulk(es, jobs_filtered, index = 'jm_test')"
   ]
  },
  {
   "cell_type": "markdown",
   "id": "da4bac99",
   "metadata": {},
   "source": [
    "Création d'une fonction qui donne le nombre d'offres d'emplois dont la description contient un mot-clé:"
   ]
  },
  {
   "cell_type": "code",
   "execution_count": 52,
   "id": "ca8e57aa",
   "metadata": {},
   "outputs": [],
   "source": [
    "def query_index(query_term: str,\n",
    "                index_name: str = 'jm_test'):\n",
    "    \"\"\"\n",
    "    Fonction pour chercher le nombre d'offres d'emplois contenant la string query_term dans les descriptions \n",
    "    d'offres d'emploi de notre base de donnée elasticsearch\n",
    "    \"\"\"\n",
    "    my_query = {\n",
    "        \"match\": {\n",
    "            \"description\": {\n",
    "                \"query\": query_term\n",
    "                }\n",
    "        }\n",
    "    }\n",
    "\n",
    "    resp = es.search(index = index_name, query = my_query)\n",
    "\n",
    "    return resp['hits']['total']['value']"
   ]
  },
  {
   "cell_type": "code",
   "execution_count": 53,
   "id": "ccce7ac5",
   "metadata": {},
   "outputs": [
    {
     "data": {
      "text/plain": [
       "267"
      ]
     },
     "execution_count": 53,
     "metadata": {},
     "output_type": "execute_result"
    }
   ],
   "source": [
    "query_index(query_term = 'python')"
   ]
  }
 ],
 "metadata": {
  "kernelspec": {
   "display_name": "Python 3 (ipykernel)",
   "language": "python",
   "name": "python3"
  },
  "language_info": {
   "codemirror_mode": {
    "name": "ipython",
    "version": 3
   },
   "file_extension": ".py",
   "mimetype": "text/x-python",
   "name": "python",
   "nbconvert_exporter": "python",
   "pygments_lexer": "ipython3",
   "version": "3.9.6"
  }
 },
 "nbformat": 4,
 "nbformat_minor": 5
}
